{
 "cells": [
  {
   "cell_type": "code",
   "execution_count": 31,
   "id": "2ed855c2-5bdd-4602-aabb-33d2fa329262",
   "metadata": {},
   "outputs": [],
   "source": [
    "# imports\n",
    "\n",
    "import os\n",
    "import io\n",
    "import sys\n",
    "import json\n",
    "import requests\n",
    "import shutil\n",
    "import re\n",
    "from dotenv import load_dotenv\n",
    "from openai import OpenAI\n",
    "import google.generativeai as genai\n",
    "import anthropic\n",
    "from IPython.display import Markdown, display, update_display\n",
    "import gradio as gr\n",
    "import subprocess"
   ]
  },
  {
   "cell_type": "code",
   "execution_count": 32,
   "id": "1f4474a0-3381-4088-bcf5-eac751a47b77",
   "metadata": {},
   "outputs": [],
   "source": [
    "# environment\n",
    "\n",
    "load_dotenv(override=True)\n",
    "os.environ['HF_TOKEN'] = os.getenv('HF_TOKEN', 'your-key-if-not-using-env')\n",
    "genai_api_key = os.getenv(\"GOOGLE_API_KEY\", \"your-gemini-key-if-missing\")\n",
    "genai.configure(api_key=genai_api_key)"
   ]
  },
  {
   "cell_type": "code",
   "execution_count": 33,
   "id": "edbcef00-0d50-43f0-9d55-422a16fb4f0c",
   "metadata": {},
   "outputs": [],
   "source": [
    "# initialize\n",
    "GEMINI_MODEL = genai.GenerativeModel(model_name=\"gemini-2.0-flash\")"
   ]
  },
  {
   "cell_type": "code",
   "execution_count": 34,
   "id": "5b781312-dde2-43bf-9f88-0aaa81c561cd",
   "metadata": {},
   "outputs": [],
   "source": [
    "# Define the dropdown options\n",
    "cpp = gr.Dropdown(['C', 'C++', 'C#', 'Java'], label=\"Select Programming Language\")"
   ]
  },
  {
   "cell_type": "code",
   "execution_count": 35,
   "id": "d1616336-5b6e-4a7f-9c57-c5fd429f752f",
   "metadata": {},
   "outputs": [],
   "source": [
    "def user_prompt_for(python, value):\n",
    "    user_prompt = f\"Rewrite this Python code in {value} with the fastest possible implementation that produces identical output in the least time. \"\n",
    "    user_prompt += f\"Respond only with {value} code; do not explain your work other than a few comments. \"\n",
    "    user_prompt += f\"Pay attention to number types to ensure no int overflows. Remember to include all necessary {value} packages.\\n\\n\"\n",
    "    user_prompt += python\n",
    "    return user_prompt"
   ]
  },
  {
   "cell_type": "code",
   "execution_count": 36,
   "id": "b687175b-5c3b-4e54-9f7d-eae6c37ed7c3",
   "metadata": {},
   "outputs": [],
   "source": [
    "def messages_for(python, value):\n",
    "    system_message = f\"You are an assistant that reimplements Python code in high performance {value} for an Windows. \"\n",
    "    system_message += f\"Respond only with {value} code; use comments sparingly and do not provide any explanation or note or the name of the language in which the code is, other than occasional comments. \"\n",
    "    system_message += f\"The {value} response needs to produce an identical output in the fastest possible time. Keep implementations of random number generators identical so that results match exactly.\"\n",
    "    return [\n",
    "        {\"role\": \"system\", \"content\": system_message},\n",
    "        {\"role\": \"user\", \"content\": user_prompt_for(python, value)}\n",
    "    ]"
   ]
  },
  {
   "cell_type": "code",
   "execution_count": 37,
   "id": "7b551488-5449-4c7e-952a-80042292fa20",
   "metadata": {},
   "outputs": [],
   "source": [
    "# write to a file called optimized.cpp/ optimized.c/ optimized.cs/ optimized.java\n",
    "def write_output(output, value):\n",
    "    code = output.replace(f\"```{value.lower()}\", \"\").replace(\"```\", \"\")\n",
    "    if value == 'C':\n",
    "        with open(\"optimized.c\", \"w\") as f:\n",
    "            f.write(code)\n",
    "    elif value == 'C++':\n",
    "        with open(\"optimized.cpp\", \"w\") as f:\n",
    "            f.write(code)\n",
    "    elif value == 'C#':\n",
    "        with open(\"optimized.cs\", \"w\") as f:\n",
    "            f.write(code)\n",
    "    elif value == 'Java':\n",
    "        with open(\"optimized.java\", \"w\") as f:\n",
    "            f.write(code)"
   ]
  },
  {
   "cell_type": "code",
   "execution_count": 38,
   "id": "855fdbd0-d7d2-4370-9ac4-a38b18994282",
   "metadata": {},
   "outputs": [],
   "source": [
    "def optimize_gemini(python, value):\n",
    "    prompt = user_prompt_for(python, value)\n",
    "    \n",
    "    # Start streaming response\n",
    "    response = GEMINI_MODEL.generate_content(\n",
    "        prompt,\n",
    "        generation_config={\"max_output_tokens\": 2000},\n",
    "        stream=True\n",
    "    )\n",
    "    \n",
    "    reply = \"\"\n",
    "    for chunk in response:\n",
    "        if chunk.text:\n",
    "            print(chunk.text, end=\"\", flush=True)\n",
    "            reply += chunk.text\n",
    "\n",
    "    write_output(reply, value)\n",
    "    return reply"
   ]
  },
  {
   "cell_type": "code",
   "execution_count": 39,
   "id": "4ca17475-010d-49a2-ba18-094830e2a78e",
   "metadata": {},
   "outputs": [],
   "source": [
    "#Enter your python code here\n",
    "pi = \"\"\"\n",
    "import time\n",
    "\n",
    "def calculate(iterations, param1, param2):\n",
    "    result = 1.0\n",
    "    for i in range(1, iterations+1):\n",
    "        j = i * param1 - param2\n",
    "        result -= (1/j)\n",
    "        j = i * param1 + param2\n",
    "        result += (1/j)\n",
    "    return result\n",
    "\n",
    "start_time = time.time()\n",
    "result = calculate(100_000_000, 4, 1) * 4\n",
    "end_time = time.time()\n",
    "\n",
    "print(f\"Result: {result:.12f}\")\n",
    "print(f\"Execution Time: {(end_time - start_time):.6f} seconds\")\n",
    "\"\"\""
   ]
  },
  {
   "cell_type": "code",
   "execution_count": 40,
   "id": "90125279-492c-48e9-8407-ca51d7aad796",
   "metadata": {},
   "outputs": [
    {
     "name": "stdout",
     "output_type": "stream",
     "text": [
      "Result: 3.141592658589\n",
      "Execution Time: 15.920969 seconds\n"
     ]
    }
   ],
   "source": [
    "exec(pi)"
   ]
  },
  {
   "cell_type": "code",
   "execution_count": 41,
   "id": "a8fbddd1-5bf1-4824-9b88-149c93765eb0",
   "metadata": {},
   "outputs": [
    {
     "name": "stdout",
     "output_type": "stream",
     "text": [
      "```c\n",
      "#include <stdio.h>\n",
      "#include <time.h>\n",
      "\n",
      "int main() {\n",
      "    long long iterations = 100000000LL; // Define iterations as long long\n",
      "    double param1 = 4.0;\n",
      "    double param2 = 1.0;\n",
      "    double result = 1.0;\n",
      "    clock_t start_time = clock();\n",
      "\n",
      "    for (long long i = 1; i <= iterations; ++i) {\n",
      "        double j1 = (double)i * param1 - param2;\n",
      "        result -= (1.0 / j1);\n",
      "        double j2 = (double)i * param1 + param2;\n",
      "        result += (1.0 / j2);\n",
      "    }\n",
      "\n",
      "    result *= 4.0;\n",
      "    clock_t end_time = clock();\n",
      "    double execution_time = (double)(end_time - start_time) / CLOCKS_PER_SEC;\n",
      "\n",
      "    printf(\"Result: %.12f\\n\", result);\n",
      "    printf(\"Execution Time: %.6f seconds\\n\", execution_time);\n",
      "\n",
      "    return 0;\n",
      "}\n",
      "```"
     ]
    },
    {
     "data": {
      "text/plain": [
       "'```c\\n#include <stdio.h>\\n#include <time.h>\\n\\nint main() {\\n    long long iterations = 100000000LL; // Define iterations as long long\\n    double param1 = 4.0;\\n    double param2 = 1.0;\\n    double result = 1.0;\\n    clock_t start_time = clock();\\n\\n    for (long long i = 1; i <= iterations; ++i) {\\n        double j1 = (double)i * param1 - param2;\\n        result -= (1.0 / j1);\\n        double j2 = (double)i * param1 + param2;\\n        result += (1.0 / j2);\\n    }\\n\\n    result *= 4.0;\\n    clock_t end_time = clock();\\n    double execution_time = (double)(end_time - start_time) / CLOCKS_PER_SEC;\\n\\n    printf(\"Result: %.12f\\\\n\", result);\\n    printf(\"Execution Time: %.6f seconds\\\\n\", execution_time);\\n\\n    return 0;\\n}\\n```'"
      ]
     },
     "execution_count": 41,
     "metadata": {},
     "output_type": "execute_result"
    }
   ],
   "source": [
    "optimize_gemini(pi, \"C\")"
   ]
  },
  {
   "cell_type": "code",
   "execution_count": 42,
   "id": "31bbc662-03a5-4621-b331-d26c346479a0",
   "metadata": {},
   "outputs": [],
   "source": [
    "def stream_gemini(python_code, value):\n",
    "    prompt = user_prompt_for(python_code, value)\n",
    "    system_message = f\"You are an assistant that reimplements Python code in high performance {value} for an Windows. \"\n",
    "    system_message += f\"Respond only with {value} code; use comments sparingly and do not provide any explanation or note or the name of the language in which the code is, other than occasional comments. \"\n",
    "    system_message += f\"The {value} response needs to produce an identical output in the fastest possible time. Keep implementations of random number generators identical so that results match exactly.\"\n",
    "    \n",
    "    response = GEMINI_MODEL.generate_content(\n",
    "        prompt,\n",
    "        generation_config={\"max_output_tokens\": 2000},\n",
    "        stream=True\n",
    "    )\n",
    "\n",
    "    reply = \"\"\n",
    "    for chunk in response:\n",
    "        if chunk.text:\n",
    "            reply += chunk.text\n",
    "            yield reply.replace(f\"```{value.lower()}\\n\", '').replace('```', '')"
   ]
  },
  {
   "cell_type": "code",
   "execution_count": 43,
   "id": "840bcdd6-c76d-49c7-80e5-16bbe0be00dc",
   "metadata": {},
   "outputs": [],
   "source": [
    "def optimize(python, model, value):\n",
    "    if model == \"gemini-2.0-flash\":\n",
    "        result = stream_gemini(python, value)\n",
    "    else:\n",
    "        raise ValueError(\"Unknown model\")\n",
    "    for stream_so_far in result:\n",
    "        yield stream_so_far"
   ]
  },
  {
   "cell_type": "code",
   "execution_count": 44,
   "id": "37398567-eb93-4542-9fdd-9f80b955c49d",
   "metadata": {},
   "outputs": [],
   "source": [
    "def execute_python(code):\n",
    "    try:\n",
    "        output = io.StringIO()\n",
    "        sys.stdout = output\n",
    "        exec(code)\n",
    "    finally:\n",
    "        sys.stdout = sys.__stdout__\n",
    "    return output.getvalue()"
   ]
  },
  {
   "cell_type": "code",
   "execution_count": 45,
   "id": "75fd5282-90cc-479a-972e-231e5ab2e248",
   "metadata": {},
   "outputs": [],
   "source": [
    "def execute_code(code, language):\n",
    "    \"\"\"\n",
    "    Execute code in different programming languages\n",
    "    \"\"\"\n",
    "    try:\n",
    "        if language == \"C\":\n",
    "            return execute_c(code)\n",
    "        elif language == \"C++\":\n",
    "            return execute_cpp(code)\n",
    "        elif language == \"C#\":\n",
    "            return execute_csharp(code)\n",
    "        elif language == \"Java\":\n",
    "            return execute_java(code)\n",
    "        else:\n",
    "            return f\"Unsupported language: {language}\"\n",
    "    except Exception as e:\n",
    "        return f\"Error executing {language} code: {str(e)}\""
   ]
  },
  {
   "cell_type": "code",
   "execution_count": 46,
   "id": "d05a35be-085f-4353-9120-89d2b1fd4fbe",
   "metadata": {},
   "outputs": [],
   "source": [
    "def execute_c(code):\n",
    "    \"\"\"Execute C code\"\"\"\n",
    "    write_output(code, \"C\")\n",
    "    \n",
    "    # Compile C code\n",
    "    compiler_cmd = [\"gcc\", \"-O2\", \"-std=c11\", \"optimized.c\", \"-o\", \"optimized_c\"]\n",
    "    try:\n",
    "        compile_result = subprocess.run(compiler_cmd, check=True, text=True, capture_output=True)\n",
    "        \n",
    "        # Run the compiled program\n",
    "        run_cmd = [\"./optimized_c\"] if os.name != 'nt' else [\"optimized_c.exe\"]\n",
    "        run_result = subprocess.run(run_cmd, check=True, text=True, capture_output=True)\n",
    "        \n",
    "        # Clean up\n",
    "        cleanup_files([\"optimized.c\", \"optimized_c\", \"optimized_c.exe\"])\n",
    "        \n",
    "        return run_result.stdout\n",
    "    except subprocess.CalledProcessError as e:\n",
    "        cleanup_files([\"optimized.c\", \"optimized_c\", \"optimized_c.exe\"])\n",
    "        return f\"C compilation/execution error:\\n{e.stderr}\""
   ]
  },
  {
   "cell_type": "code",
   "execution_count": 47,
   "id": "0633d41d-156d-41c5-9ccd-4cc613e3c9a4",
   "metadata": {},
   "outputs": [],
   "source": [
    "def execute_cpp(code):\n",
    "    \"\"\"Execute C++ code\"\"\"\n",
    "    write_output(code, \"C++\")\n",
    "    \n",
    "    # Compile C++ code\n",
    "    compiler_cmd = [\"g++\", \"-O2\", \"-std=c++17\", \"optimized.cpp\", \"-o\", \"optimized_cpp\"]\n",
    "    try:\n",
    "        compile_result = subprocess.run(compiler_cmd, check=True, text=True, capture_output=True)\n",
    "        \n",
    "        # Run the compiled program\n",
    "        run_cmd = [\"./optimized_cpp\"] if os.name != 'nt' else [\"optimized_cpp.exe\"]\n",
    "        run_result = subprocess.run(run_cmd, check=True, text=True, capture_output=True)\n",
    "        \n",
    "        # Clean up\n",
    "        cleanup_files([\"optimized.cpp\", \"optimized_cpp\", \"optimized_cpp.exe\"])\n",
    "        \n",
    "        return run_result.stdout\n",
    "    except subprocess.CalledProcessError as e:\n",
    "        cleanup_files([\"optimized.cpp\", \"optimized_cpp\", \"optimized_cpp.exe\"])\n",
    "        return f\"C++ compilation/execution error:\\n{e.stderr}\""
   ]
  },
  {
   "cell_type": "code",
   "execution_count": 48,
   "id": "5dbe0f88-b7dd-4583-9f49-d7424536f8df",
   "metadata": {},
   "outputs": [],
   "source": [
    "def execute_csharp(code):\n",
    "    \"\"\"Execute C# code - simplified version\"\"\"\n",
    "    write_output(code, \"C#\")\n",
    "    \n",
    "    try:\n",
    "        # Try Mono compiler first (simpler setup)\n",
    "        if shutil.which(\"mcs\") and shutil.which(\"mono\"):\n",
    "            # Compile with Mono\n",
    "            compile_cmd = [\"mcs\", \"optimized.cs\"]\n",
    "            subprocess.run(compile_cmd, check=True, text=True, capture_output=True)\n",
    "            \n",
    "            # Run with Mono\n",
    "            run_cmd = [\"mono\", \"optimized.exe\"]\n",
    "            run_result = subprocess.run(run_cmd, check=True, text=True, capture_output=True)\n",
    "            \n",
    "            # Clean up\n",
    "            cleanup_files([\"optimized.cs\", \"optimized.exe\"])\n",
    "            return run_result.stdout\n",
    "            \n",
    "        # Try .NET if Mono is not available\n",
    "        elif shutil.which(\"dotnet\"):\n",
    "            # Simple dotnet script execution\n",
    "            run_cmd = [\"dotnet\", \"script\", \"optimized.cs\"]\n",
    "            run_result = subprocess.run(run_cmd, check=True, text=True, capture_output=True)\n",
    "            \n",
    "            # Clean up\n",
    "            cleanup_files([\"optimized.cs\"])\n",
    "            return run_result.stdout\n",
    "            \n",
    "        else:\n",
    "            return \"Error: No C# compiler found. Please install .NET SDK or Mono.\"\n",
    "            \n",
    "    except subprocess.CalledProcessError as e:\n",
    "        cleanup_files([\"optimized.cs\", \"optimized.exe\"])\n",
    "        return f\"C# compilation/execution error:\\n{e.stderr}\""
   ]
  },
  {
   "cell_type": "code",
   "execution_count": 49,
   "id": "04838bc0-4f2d-45c6-ae68-ac121de3bf64",
   "metadata": {},
   "outputs": [],
   "source": [
    "def execute_java(code):\n",
    "    \"\"\"Execute Java code\"\"\"\n",
    "    write_output(code, \"Java\")\n",
    "    \n",
    "    try:\n",
    "        # Extract class name from the code\n",
    "        class_name = extract_java_class_name(code)\n",
    "        if not class_name:\n",
    "            return \"Error: Could not find public class name in Java code\"\n",
    "        \n",
    "        # Rename file to match class name\n",
    "        java_filename = f\"{class_name}.java\"\n",
    "        if os.path.exists(\"optimized.java\"):\n",
    "            os.rename(\"optimized.java\", java_filename)\n",
    "        \n",
    "        # Compile Java code\n",
    "        compile_cmd = [\"javac\", java_filename]\n",
    "        subprocess.run(compile_cmd, check=True, text=True, capture_output=True)\n",
    "        \n",
    "        # Run Java program\n",
    "        run_cmd = [\"java\", class_name]\n",
    "        run_result = subprocess.run(run_cmd, check=True, text=True, capture_output=True)\n",
    "        \n",
    "        # Clean up\n",
    "        cleanup_files([java_filename, f\"{class_name}.class\"])\n",
    "        \n",
    "        return run_result.stdout\n",
    "        \n",
    "    except subprocess.CalledProcessError as e:\n",
    "        cleanup_files([\"optimized.java\", f\"{class_name}.java\", f\"{class_name}.class\"])\n",
    "        return f\"Java compilation/execution error:\\n{e.stderr}\""
   ]
  },
  {
   "cell_type": "code",
   "execution_count": 50,
   "id": "b8ef1471-dc05-4d34-991d-57146557da43",
   "metadata": {},
   "outputs": [],
   "source": [
    "def extract_java_class_name(code):\n",
    "    \"\"\"Extract the public class name from Java code\"\"\"\n",
    "    import re\n",
    "    match = re.search(r'public\\s+class\\s+(\\w+)', code)\n",
    "    if match:\n",
    "        return match.group(1)\n",
    "    return None"
   ]
  },
  {
   "cell_type": "code",
   "execution_count": 51,
   "id": "2bd9bac4-528b-4f5a-a65a-b3845e2dc348",
   "metadata": {},
   "outputs": [],
   "source": [
    "def cleanup_files(filenames):\n",
    "    \"\"\"Clean up temporary files\"\"\"\n",
    "    for filename in filenames:\n",
    "        try:\n",
    "            if os.path.exists(filename):\n",
    "                os.remove(filename)\n",
    "        except:\n",
    "            pass"
   ]
  },
  {
   "cell_type": "code",
   "execution_count": 52,
   "id": "52d66a24-d2f2-4176-9bd1-0b8e28fc70fb",
   "metadata": {},
   "outputs": [],
   "source": [
    "css = \"\"\"\n",
    ".python {background-color: #306998;}\n",
    ".cpp {background-color: #050;}\n",
    "\"\"\""
   ]
  },
  {
   "cell_type": "code",
   "execution_count": 53,
   "id": "52cbe031-a526-41f1-8f1f-7139beadcb3a",
   "metadata": {},
   "outputs": [],
   "source": [
    "# Gradio interface\n",
    "with gr.Blocks(css=css) as ui:\n",
    "    gr.Markdown(\"<h1 style='text-align: center;'>🔁 Py2Lang</h1><p style='text-align: center;'>Convert code from Python to other languages</p>\")\n",
    "    \n",
    "    with gr.Row():\n",
    "        python = gr.Textbox(label=\"Python code:\", value=pi, lines=10)\n",
    "        converted_code = gr.Textbox(label=\"Converted code:\", lines=10)\n",
    "    with gr.Row():\n",
    "        model = gr.Dropdown([\"gemini-2.0-flash\"], label=\"Select model\", value=\"gemini-2.0-flash\")\n",
    "        language = gr.Dropdown(['C', 'C++', 'C#', 'Java'], label=\"Select target language\", value=\"C\")\n",
    "    with gr.Row():\n",
    "        convert = gr.Button(\"Convert code\")\n",
    "    with gr.Row():\n",
    "        python_run = gr.Button(\"Run Python\")\n",
    "        converted_run = gr.Button(\"Run Converted Code\")\n",
    "    with gr.Row():\n",
    "        python_out = gr.TextArea(label=\"Python result:\", elem_classes=[\"python\"])\n",
    "        converted_out = gr.TextArea(label=\"Converted code result:\")\n",
    "\n",
    "    convert.click(optimize, inputs=[python, model, language], outputs=[converted_code])\n",
    "    python_run.click(execute_python, inputs=[python], outputs=[python_out])\n",
    "    converted_run.click(lambda code, lang: execute_code(code, lang), inputs=[converted_code, language], outputs=[converted_out])"
   ]
  },
  {
   "cell_type": "code",
   "execution_count": 54,
   "id": "4d18caf8-727e-4123-bb72-5e1f0192b129",
   "metadata": {},
   "outputs": [
    {
     "name": "stdout",
     "output_type": "stream",
     "text": [
      "* Running on local URL:  http://127.0.0.1:7861\n",
      "* To create a public link, set `share=True` in `launch()`.\n"
     ]
    },
    {
     "data": {
      "text/html": [
       "<div><iframe src=\"http://127.0.0.1:7861/\" width=\"100%\" height=\"500\" allow=\"autoplay; camera; microphone; clipboard-read; clipboard-write;\" frameborder=\"0\" allowfullscreen></iframe></div>"
      ],
      "text/plain": [
       "<IPython.core.display.HTML object>"
      ]
     },
     "metadata": {},
     "output_type": "display_data"
    }
   ],
   "source": [
    "# Launch the interface\n",
    "if __name__ == \"__main__\":\n",
    "    ui.launch(inbrowser=True)"
   ]
  },
  {
   "cell_type": "code",
   "execution_count": null,
   "id": "c3fe626d-fd0d-4710-89c1-132cc89051aa",
   "metadata": {},
   "outputs": [],
   "source": []
  }
 ],
 "metadata": {
  "kernelspec": {
   "display_name": "Python 3 (ipykernel)",
   "language": "python",
   "name": "python3"
  },
  "language_info": {
   "codemirror_mode": {
    "name": "ipython",
    "version": 3
   },
   "file_extension": ".py",
   "mimetype": "text/x-python",
   "name": "python",
   "nbconvert_exporter": "python",
   "pygments_lexer": "ipython3",
   "version": "3.11.13"
  }
 },
 "nbformat": 4,
 "nbformat_minor": 5
}
